{
  "nbformat": 4,
  "nbformat_minor": 0,
  "metadata": {
    "colab": {
      "provenance": [],
      "authorship_tag": "ABX9TyNAUxTBlmqvBBiTmJ99gPot",
      "include_colab_link": true
    },
    "kernelspec": {
      "name": "python3",
      "display_name": "Python 3"
    },
    "language_info": {
      "name": "python"
    }
  },
  "cells": [
    {
      "cell_type": "markdown",
      "metadata": {
        "id": "view-in-github",
        "colab_type": "text"
      },
      "source": [
        "<a href=\"https://colab.research.google.com/github/19491596isys2001/text_summariser/blob/main/summarizing.ipynb\" target=\"_parent\"><img src=\"https://colab.research.google.com/assets/colab-badge.svg\" alt=\"Open In Colab\"/></a>"
      ]
    },
    {
      "cell_type": "code",
      "execution_count": null,
      "metadata": {
        "id": "yk2WM4O4rMkK"
      },
      "outputs": [],
      "source": [
        "def displaySummary(content):\n",
        "  currentContent = content\n",
        "  summarizedText = \"\"\n",
        "  summarizer = pipeline(\"summarization\")\n",
        "  trySummarize = True\n",
        "\n",
        "  while(trySummarize):\n",
        "    summarizedText = \"\"\n",
        "    try:\n",
        "      summarizedText = summarizer(currentContent)\n",
        "      trySummarize = False\n",
        "    except IndexError:\n",
        "      # Article is too large, splitting size by x amount\n",
        "      currentContent = currentContent[:int((len(currentContent)/2))]\n",
        "\n",
        "  print(summarizedText)"
      ]
    }
  ]
}