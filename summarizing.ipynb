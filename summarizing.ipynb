{
  "nbformat": 4,
  "nbformat_minor": 0,
  "metadata": {
    "colab": {
      "provenance": [],
      "authorship_tag": "ABX9TyMRacjQf1pnjJcs4ERL2TAK",
      "include_colab_link": true
    },
    "kernelspec": {
      "name": "python3",
      "display_name": "Python 3"
    },
    "language_info": {
      "name": "python"
    }
  },
  "cells": [
    {
      "cell_type": "markdown",
      "metadata": {
        "id": "view-in-github",
        "colab_type": "text"
      },
      "source": [
        "<a href=\"https://colab.research.google.com/github/19491596isys2001/text_summariser/blob/main/summarizing.ipynb\" target=\"_parent\"><img src=\"https://colab.research.google.com/assets/colab-badge.svg\" alt=\"Open In Colab\"/></a>"
      ]
    },
    {
      "cell_type": "code",
      "execution_count": null,
      "metadata": {
        "id": "yk2WM4O4rMkK"
      },
      "outputs": [],
      "source": [
        "def displaySummary(content):\n",
        "  summarizer = pipeline(\"summarization\")\n",
        "  # Added tokenizer for when size of wikipedia is too long\n",
        "  tokenizer = summarizer.tokenizer\n",
        "  tokens = tokenizer.tokenize(content)\n",
        "  print(str(len(tokens)))\n",
        "  #print(summarizer(content))"
      ]
    }
  ]
}