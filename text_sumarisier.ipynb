{
  "nbformat": 4,
  "nbformat_minor": 0,
  "metadata": {
    "colab": {
      "name": "text_sumarisier.ipynb",
      "provenance": [],
      "include_colab_link": true
    },
    "kernelspec": {
      "name": "python3",
      "display_name": "Python 3"
    },
    "language_info": {
      "name": "python"
    }
  },
  "cells": [
    {
      "cell_type": "markdown",
      "metadata": {
        "id": "view-in-github",
        "colab_type": "text"
      },
      "source": [
        "<a href=\"https://colab.research.google.com/github/19491596isys2001/text_summariser/blob/main/text_sumarisier.ipynb\" target=\"_parent\"><img src=\"https://colab.research.google.com/assets/colab-badge.svg\" alt=\"Open In Colab\"/></a>"
      ]
    },
    {
      "cell_type": "markdown",
      "source": [
        "# Text Summarisation\n",
        "\n",
        "Recall an earlier notebook where you were given a task to summarise online content and produce a report. We converted an audio file to text. Similarly, we could write a notebook to convert a PDF or Word document to text or Web pages to text. The strategy is to convert everything to text, summarise the text, and use the summary in the final report.\n",
        "\n",
        "# The Challenge\n",
        "\n",
        "Create a project to summarise text and publish the project in Binder. \n",
        "\n",
        "You can choose how to input the text.  Some ideas include pasting it into a string, reading from a file, extract from a PDF or a webpage. \n",
        " \n",
        "It is okay to follow a online tutoirial or youtube video but make sure you have some understanding of what you are doing. You can ask you tutor for help if needed.  They will either help search, or perhaps explain the code in a tutorial.\n",
        "\n",
        "\n",
        "# Task 0 - Initialise a NEW repository\n",
        "\n",
        "We are going to deploy this notebook using Binder.\n",
        "\n",
        "* Initialise a new PUBLIC GitHub repository, say called, text_summariser.\n",
        "* Import this notebook into the new repository\n",
        "\n"
      ],
      "metadata": {
        "id": "SmVEXRTA1wZn"
      }
    },
    {
      "cell_type": "markdown",
      "source": [
        "#Text Summarisation - Wikipedia Articles\n",
        "This program will accept a topic through user input, attempt to retrieve the matchnig wikipedia article for that topic, summarise its content, and display said summary.\n",
        "\n",
        "## Wikipedia Package\n",
        "There is a wikipedia library that can allow you to retrieve the content of a wikipedia page and store it as a string. Package = 'wikipedia'\n",
        "\n"
      ],
      "metadata": {
        "id": "FBj3Dxggeuuc"
      }
    },
    {
      "cell_type": "markdown",
      "source": [
        "#Fetching Dependencies"
      ],
      "metadata": {
        "id": "5sqINREIlxW8"
      }
    },
    {
      "cell_type": "code",
      "source": [
        "!pip -q install wikipedia\n",
        "!pip -q install transformers\n",
        "import wikipedia\n",
        "import sys\n",
        "IN_COLAB = 'google.colab' in sys.modules\n",
        "if IN_COLAB:\n",
        "  GIT_PATH = \"https://github.com/19491596isys2001/text_summariser.git\"\n",
        "  !mkdir ./temp\n",
        "  !git clone \"{GIT_PATH}\" ./temp\n",
        "  !mv ./temp/* .\n",
        "  !rm -rf ./temp"
      ],
      "metadata": {
        "id": "48RNuGBQIHQ0",
        "colab": {
          "base_uri": "https://localhost:8080/"
        },
        "outputId": "be04b380-e92a-431b-a254-7e46abe4a82b"
      },
      "execution_count": 69,
      "outputs": [
        {
          "output_type": "stream",
          "name": "stdout",
          "text": [
            "Cloning into './temp'...\n",
            "remote: Enumerating objects: 51, done.\u001b[K\n",
            "remote: Counting objects: 100% (51/51), done.\u001b[K\n",
            "remote: Compressing objects: 100% (50/50), done.\u001b[K\n",
            "remote: Total 51 (delta 29), reused 0 (delta 0), pack-reused 0\u001b[K\n",
            "Unpacking objects: 100% (51/51), 7.62 KiB | 600.00 KiB/s, done.\n"
          ]
        }
      ]
    },
    {
      "cell_type": "markdown",
      "source": [
        "#Running notebook files"
      ],
      "metadata": {
        "id": "gy2KAVXJlqtB"
      }
    },
    {
      "cell_type": "code",
      "source": [
        "%run wiki_code.ipynb\n",
        "%run summarizing.ipynb\n",
        "from transformers import pipeline"
      ],
      "metadata": {
        "id": "09vvkFnYlAoR"
      },
      "execution_count": 70,
      "outputs": []
    },
    {
      "cell_type": "markdown",
      "source": [
        "#Main Program"
      ],
      "metadata": {
        "id": "qtpUIJgml0Yx"
      }
    },
    {
      "cell_type": "code",
      "source": [
        "askForArticle = True\n",
        "while(askForArticle):\n",
        "  # Get article from user\n",
        "  article = getArticle(input(\"Enter the name of the wikipedia article you want to summarise: \"))\n",
        "  if not article:\n",
        "    print(\"Try again\")\n",
        "  else:\n",
        "    askForArticle = False\n",
        "\n",
        "displaySummary(article)"
      ],
      "metadata": {
        "id": "fal3q_jxl26v",
        "outputId": "d2361945-9a6c-47aa-c66a-b42a8640225c",
        "colab": {
          "base_uri": "https://localhost:8080/"
        }
      },
      "execution_count": 71,
      "outputs": [
        {
          "name": "stdout",
          "output_type": "stream",
          "text": [
            "Enter the name of the wikipedia article you want to summarise: India (Country)\n"
          ]
        },
        {
          "output_type": "stream",
          "name": "stderr",
          "text": [
            "No model was supplied, defaulted to sshleifer/distilbart-cnn-12-6 and revision a4f8f3e (https://huggingface.co/sshleifer/distilbart-cnn-12-6).\n",
            "Using a pipeline without specifying a model name and revision in production is not recommended.\n",
            "Token indices sequence length is longer than the specified maximum sequence length for this model (15674 > 1024). Running this sequence through the model will result in indexing errors\n"
          ]
        },
        {
          "output_type": "stream",
          "name": "stdout",
          "text": [
            "[{'summary_text': ' India, officially the Republic of India (IAST: Bhārat Gaṇarājya), is a country in South Asia . It is the seventh-largest country by area and the second-most populous country . It shares land borders with Pakistan, China, Nepal, and Bhutan to the north; and Bangladesh and Myanmar to the east .'}]\n"
          ]
        }
      ]
    }
  ]
}