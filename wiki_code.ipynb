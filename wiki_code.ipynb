{
  "nbformat": 4,
  "nbformat_minor": 0,
  "metadata": {
    "colab": {
      "provenance": [],
      "authorship_tag": "ABX9TyMPzskCRvpWN3y+9hTr+A8S",
      "include_colab_link": true
    },
    "kernelspec": {
      "name": "python3",
      "display_name": "Python 3"
    },
    "language_info": {
      "name": "python"
    }
  },
  "cells": [
    {
      "cell_type": "markdown",
      "metadata": {
        "id": "view-in-github",
        "colab_type": "text"
      },
      "source": [
        "<a href=\"https://colab.research.google.com/github/19491596isys2001/text_summariser/blob/main/wiki_code.ipynb\" target=\"_parent\"><img src=\"https://colab.research.google.com/assets/colab-badge.svg\" alt=\"Open In Colab\"/></a>"
      ]
    },
    {
      "cell_type": "code",
      "execution_count": null,
      "metadata": {
        "id": "VgWeot9WjnLp"
      },
      "outputs": [],
      "source": [
        "def getArticle(name):\n",
        "  try:\n",
        "    article = wikipedia.page(name)\n",
        "    content = article.content\n",
        "    return content\n",
        "  except PageError e:\n",
        "    print(\"No wikipedia article could be found based on your search.\")\n",
        "    raise e"
      ]
    }
  ]
}